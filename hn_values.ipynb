{
  "cells": [
    {
      "cell_type": "code",
      "execution_count": 22,
      "metadata": {},
      "outputs": [],
      "source": [
        "#! conda install networkx -y"
      ]
    },
    {
      "cell_type": "code",
      "execution_count": 23,
      "metadata": {
        "id": "CZmQoVhM8Xux"
      },
      "outputs": [],
      "source": [
        "import numpy as np\n",
        "import itertools\n",
        "import math\n",
        "import pandas as pd\n",
        "import networkx as nx\n",
        "import matplotlib.pyplot as plt"
      ]
    },
    {
      "cell_type": "code",
      "execution_count": 24,
      "metadata": {
        "id": "JBiHLVd08Zda"
      },
      "outputs": [
        {
          "data": {
            "image/png": "[encoded data removed]",
            "text/plain": [
              "<Figure size 640x480 with 1 Axes>"
            ]
          },
          "metadata": {},
          "output_type": "display_data"
        }
      ],
      "source": [
        "# Parameters\n",
        "n = 3\n",
        "epsilon = 1/(2*n)\n",
        "graph_type = 'line' # 'random' or 'line'\n",
        "\n",
        "# Randomness\n",
        "gen = np.random.default_rng(1)\n",
        "\n",
        "# Create a graph with n nodes\n",
        "graph = nx.Graph()\n",
        "graph.add_nodes_from(range(n))\n",
        "if graph_type == 'complete':\n",
        "    graph.add_edges_from(itertools.combinations(range(n), 2))\n",
        "elif graph_type == 'line':\n",
        "    graph.add_edges_from([(i, i+1) for i in range(n-1)])\n",
        "elif graph_type == 'random':\n",
        "    for i, j in itertools.combinations(range(n), 2):\n",
        "        if gen.random() < 0.75: graph.add_edge(i, j)\n",
        "\n",
        "# Visualize the graph\n",
        "# Fix the positions of the nodes\n",
        "nx.draw(graph, with_labels=True)\n",
        "\n",
        "v_vector = gen.random(2**n)\n",
        "v_vector -= v_vector[0]"
      ]
    },
    {
      "cell_type": "markdown",
      "metadata": {
        "id": "iqns9BLACimv"
      },
      "source": [
        "## Utility Methods"
      ]
    },
    {
      "cell_type": "code",
      "execution_count": 25,
      "metadata": {
        "id": "XxSOoc38CjhF"
      },
      "outputs": [],
      "source": [
        "def extract_singleton_from_vector(v_vector, n):\n",
        "    single = np.zeros(n)\n",
        "    for i in range(n):\n",
        "        index = 2**i - 1\n",
        "        single[i] = v_vector[index]\n",
        "    return single\n",
        "\n",
        "def convert_from_vector_to_dict(v_vector, n):\n",
        "    v_dict = {}\n",
        "    for idx in range(2**n):\n",
        "        subset = tuple([j for j in range(n) if (idx >> j) & 1])\n",
        "        v_dict[subset] = v_vector[idx]\n",
        "    return v_dict\n",
        "\n",
        "def extract_singleton_from_dict(v_dict, n):\n",
        "    single = np.zeros(n)\n",
        "    for i in range(n):\n",
        "        single[i] = v_dict[tuple([i])]\n",
        "    return single\n",
        "\n",
        "def print_labelled_matrix(P):\n",
        "    df = pd.DataFrame(P)\n",
        "\n",
        "    def subset_to_string(subset):\n",
        "        return str([j for j in subset])\n",
        "\n",
        "    for idx in range(2**n-1):\n",
        "        subset = [j for j in range(n) if (idx + 1 >> j) & 1]\n",
        "        df = df.rename(index={idx: subset_to_string(subset)})\n",
        "        df = df.rename(columns={idx: subset_to_string(subset)})\n",
        "\n",
        "    print(df)"
      ]
    },
    {
      "cell_type": "markdown",
      "metadata": {
        "id": "CIGkMOLD8lp6"
      },
      "source": [
        "## Computing Shapley Values"
      ]
    },
    {
      "cell_type": "code",
      "execution_count": 26,
      "metadata": {
        "id": "YFIS2fAM8o22"
      },
      "outputs": [],
      "source": [
        "def compute_shapley_values_vector(n, v_vector):\n",
        "    shap_values = np.zeros(n)\n",
        "    for i in range(n):\n",
        "        valid_items = [j for j in range(n) if j != i]\n",
        "        for set_size in range(n):\n",
        "            # Generate all subsets of size set_size\n",
        "            weight = 1 / math.comb(n - 1, set_size)\n",
        "            for subset in itertools.combinations(valid_items, set_size):\n",
        "                # All indices from 0 to 2**n correspond to a subset\n",
        "                # Convert from a subset to the associated index\n",
        "                index_wo_i = sum([2**j for j in subset])\n",
        "                index_w_i = index_wo_i + 2**i\n",
        "                shap_values[i] += weight * (v_vector[index_w_i] - v_vector[index_wo_i])\n",
        "    return shap_values / n\n",
        "\n",
        "def compute_shapley_values_dict(n, v_dict):\n",
        "    shap_values = np.zeros(n)\n",
        "    for i in range(n):\n",
        "        valid_items = [j for j in range(n) if j != i]\n",
        "        for set_size in range(n):\n",
        "            # Generate all subsets of size set_size\n",
        "            weight = 1 / math.comb(n - 1, set_size)\n",
        "            for subset in itertools.combinations(valid_items, set_size):\n",
        "                subset = tuple(subset)\n",
        "                subset_wo_i = subset\n",
        "                subset_w_i = list(subset) + [i]\n",
        "                subset_w_i.sort()\n",
        "                subset_w_i = tuple(subset_w_i)\n",
        "                shap_values[i] += weight * (v_dict[subset_w_i] - v_dict[subset_wo_i])\n",
        "    return shap_values / n"
      ]
    },
    {
      "cell_type": "markdown",
      "metadata": {
        "id": "rUxyE1Fu8z6o"
      },
      "source": [
        "## Shared Methods"
      ]
    },
    {
      "cell_type": "code",
      "execution_count": 27,
      "metadata": {
        "id": "ofLAaLIV838j"
      },
      "outputs": [],
      "source": [
        "def build_psi(n, epsilon):\n",
        "    non_identity = np.zeros((2**n-1, 2**n-1))\n",
        "\n",
        "    for row_idx in range(2**n-1):\n",
        "        subset = [j for j in range(n) if (row_idx + 1 >> j) & 1]\n",
        "        not_in_subset = [j for j in range(n) if j not in subset]\n",
        "        non_identity[row_idx, row_idx] = -1 * len(not_in_subset)\n",
        "\n",
        "        for j in not_in_subset:\n",
        "           subset_with_j = subset + [j]\n",
        "           subset_with_j.sort()\n",
        "           subset_with_j_idx = sum([2**i for i in subset_with_j]) - 1\n",
        "           non_identity[row_idx, subset_with_j_idx] = 1\n",
        "           non_identity[row_idx, 2**j-1] = -1\n",
        "\n",
        "    return np.eye(2**n-1) + epsilon * non_identity\n",
        "\n",
        "def build_psi_graph(n, graph, epsilon):\n",
        "    psi = np.zeros((2**n-1, 2**n-1))\n",
        "    for row_idx in range(2**n-1):\n",
        "        subset = [j for j in range(n) if (row_idx + 1 >> j) & 1]\n",
        "        graph_subset = graph.subgraph(subset)\n",
        "        for connected_component in nx.connected_components(graph_subset):\n",
        "            nodes = list(connected_component)\n",
        "            # Neighbors of nodes in the connected component\n",
        "            neighbors = set()\n",
        "            for node in nodes:\n",
        "                neighbors |= set(graph.neighbors(node))\n",
        "            neighbors -= set(nodes)\n",
        "            nodes_idx = sum([2**i for i in nodes]) - 1\n",
        "            psi[row_idx, nodes_idx] += 1 - epsilon * len(neighbors)\n",
        "\n",
        "            for j in neighbors:\n",
        "                nodes_w_j_idx = nodes_idx + 2**j\n",
        "                psi[row_idx, nodes_w_j_idx] += epsilon\n",
        "                psi[row_idx, 2**j-1] += -epsilon\n",
        "    return psi\n",
        "\n",
        "def compute_next_v_graph_dict(v, n, graph, epsilon):\n",
        "    next_v = {}\n",
        "    for idx in range(2**n):\n",
        "        subset = tuple([j for j in range(n) if (idx >> j) & 1])\n",
        "        graph_subset = graph.subgraph(subset)\n",
        "        summation = 0\n",
        "        for connected_component in nx.connected_components(graph_subset):\n",
        "            nodes = list(connected_component)\n",
        "            # Neighbors of nodes in the connected component\n",
        "            neighbors = set()\n",
        "            for node in nodes:\n",
        "                neighbors |= set(graph.neighbors(node))\n",
        "            neighbors -= set(nodes)\n",
        "            summation += (1 - epsilon * len(neighbors)) * v[tuple(nodes)]\n",
        "            for j in neighbors:\n",
        "                nodes_w_j = list(nodes) + [j]\n",
        "                nodes_w_j.sort()\n",
        "                summation += epsilon * (v[tuple(nodes_w_j)] - v[tuple([j])])\n",
        "\n",
        "        next_v[subset] = summation\n",
        "    return next_v\n",
        "\n",
        "def compute_next_v_dict(v, n, epsilon):\n",
        "    next_v = {}\n",
        "    for idx in range(2**n):\n",
        "        subset = tuple([j for j in range(n) if (idx >> j) & 1])\n",
        "        not_in_subset = [j for j in range(n) if j not in subset]\n",
        "        summation = 0\n",
        "        for j in not_in_subset:\n",
        "            subset_with_j = list(subset) + [j]\n",
        "            subset_with_j.sort()\n",
        "            subset_with_j = tuple(subset_with_j)\n",
        "            j = tuple([j])\n",
        "            summation += v[subset_with_j] - v[j] - v[subset]\n",
        "\n",
        "        next_v[subset] = v[subset] + epsilon * summation\n",
        "    return next_v\n",
        "\n"
      ]
    },
    {
      "cell_type": "markdown",
      "metadata": {
        "id": "jW8Ypa528jaJ"
      },
      "source": [
        "## Computing Shapley Values"
      ]
    },
    {
      "cell_type": "code",
      "execution_count": 28,
      "metadata": {},
      "outputs": [
        {
          "name": "stdout",
          "output_type": "stream",
          "text": [
            "Shapley values from vector: [ 0.15937701 -0.04158696 -0.22041254]\n",
            "Shapley values from matvec: [ 0.15937701 -0.04158696 -0.22041254]\n",
            "Shapley values from matrix: [ 0.15937701 -0.04158696 -0.22041254]\n",
            "Shapley values from dictio: [ 0.15937701 -0.04158696 -0.22041254]\n",
            "Shapley values from limitd: [ 0.15937701 -0.04158696 -0.22041254]\n"
          ]
        }
      ],
      "source": [
        "shap_values = compute_shapley_values_vector(n, v_vector)\n",
        "print('Shapley values from vector:', shap_values)\n",
        "\n",
        "Psi = build_psi(n, epsilon)\n",
        "next_v = v_vector[1:]\n",
        "\n",
        "for j in range(100):\n",
        "    next_v = Psi @ next_v\n",
        "\n",
        "print('Shapley values from matvec:', extract_singleton_from_vector(next_v, n))\n",
        "\n",
        "next_Psi = Psi\n",
        "for j in range(100):\n",
        "    next_Psi = next_Psi @ Psi\n",
        "\n",
        "print('Shapley values from matrix:', extract_singleton_from_vector(next_Psi @ v_vector[1:], n))\n",
        "\n",
        "v_dict = convert_from_vector_to_dict(v_vector, n)\n",
        "\n",
        "shap_values = compute_shapley_values_dict(n, v_dict)\n",
        "print('Shapley values from dictio:', shap_values)\n",
        "\n",
        "next_v = v_dict\n",
        "for i in range(100):\n",
        "    next_v = compute_next_v_dict(next_v, n, epsilon)\n",
        "\n",
        "print('Shapley values from limitd:', extract_singleton_from_dict(next_v, n))"
      ]
    },
    {
      "cell_type": "markdown",
      "metadata": {},
      "source": [
        "## Speeding up Limit"
      ]
    },
    {
      "cell_type": "code",
      "execution_count": 29,
      "metadata": {},
      "outputs": [],
      "source": [
        "def build_unanimity_basis(n, is_inverse=False):\n",
        "    P = np.zeros((2**n-1, 2**n-1))\n",
        "    for idx in range(2**n-1):\n",
        "        subset = [j for j in range(n) if (idx + 1 >> j) & 1]\n",
        "        #print(subset)\n",
        "        # for all supersets of subset\n",
        "        remaining = [j for j in range(n) if j not in subset]\n",
        "        for length in range(len(remaining)+1):\n",
        "            for new_subset in itertools.combinations(remaining, length):\n",
        "                new_subset = subset + list(new_subset)\n",
        "                new_subset_idx = sum([2**i for i in new_subset]) -1\n",
        "                P[new_subset_idx, idx] = 1\n",
        "                if is_inverse:\n",
        "                    if len(new_subset) % 2 != len(subset) % 2 and len(new_subset) > len(subset):\n",
        "                        P[new_subset_idx, idx] = -1\n",
        "    return P\n",
        "\n",
        "def build_triangular(n, epsilon):\n",
        "    triangular = np.zeros((2**n-1, 2**n-1))\n",
        "    for idx in range(2**n-1):\n",
        "        subset = [j for j in range(n) if (idx + 1 >> j) & 1]\n",
        "        if len(subset) == 1:\n",
        "            triangular[idx,idx] = 1\n",
        "        else:\n",
        "            triangular[idx,idx] = 1 - epsilon * len(subset)\n",
        "            for i in subset:\n",
        "                triangular[idx - 2**i, idx] = epsilon\n",
        "    return triangular\n",
        "\n",
        "def build_triangular_graph(n, graph, epsilon):\n",
        "    triangular = np.zeros((2**n-1, 2**n-1))\n",
        "    for idx in range(2**n-1):\n",
        "        subset = [j for j in range(n) if (idx + 1 >> j) & 1] \n",
        "        if len(subset) == 1:\n",
        "            triangular[idx,idx] = 1 \n",
        "            continue\n",
        "        graph_subset = graph.subgraph(subset)\n",
        "        #if nx.is_connected(graph_subset):\n",
        "        for connected_component in nx.connected_components(graph_subset):\n",
        "            nodes = list(connected_component)\n",
        "            # Neighbors of nodes in the connected component\n",
        "            neighbors = set()\n",
        "            for node in nodes:\n",
        "                neighbors |= set(graph.neighbors(node))\n",
        "            neighbors -= set(nodes)\n",
        "            nodes_idx = sum([2**i for i in nodes]) - 1\n",
        "            triangular[nodes_idx, idx] += 1- epsilon * len(neighbors)\n",
        "            for i in neighbors:\n",
        "                triangular[nodes_idx - 2**i, idx] += epsilon\n",
        "    return triangular\n",
        "\n",
        "def build_tri_limit(n):\n",
        "    tri = np.zeros((2**n-1, 2**n-1))\n",
        "    for j in range(n):\n",
        "        row_idx = 2**j - 1\n",
        "        valid_items = [i for i in range(n) if j != i]\n",
        "        for set_size in range(n):\n",
        "            for subset in itertools.combinations(valid_items, set_size):\n",
        "                col_idx = sum([2**i for i in subset]) - 1 + 2**j\n",
        "                tri[row_idx, col_idx] = 1/(set_size+1)\n",
        "    return tri"
      ]
    },
    {
      "cell_type": "markdown",
      "metadata": {},
      "source": [
        "## HN Values"
      ]
    },
    {
      "cell_type": "code",
      "execution_count": 30,
      "metadata": {},
      "outputs": [
        {
          "name": "stdout",
          "output_type": "stream",
          "text": [
            "Psi matrix:\n",
            "                [0]       [1]    [0, 1]       [2]  [0, 2]    [1, 2]  [0, 1, 2]\n",
            "[0]        0.833333 -0.166667  0.166667  0.000000     0.0  0.000000   0.000000\n",
            "[1]       -0.166667  0.666667  0.166667 -0.166667     0.0  0.166667   0.000000\n",
            "[0, 1]     0.000000  0.000000  0.833333 -0.166667     0.0  0.000000   0.166667\n",
            "[2]        0.000000 -0.166667  0.000000  0.833333     0.0  0.166667   0.000000\n",
            "[0, 2]     0.833333 -0.333333  0.166667  0.833333     0.0  0.166667   0.000000\n",
            "[1, 2]    -0.166667  0.000000  0.000000  0.000000     0.0  0.833333   0.166667\n",
            "[0, 1, 2]  0.000000  0.000000  0.000000  0.000000     0.0  0.000000   1.000000\n",
            "Exposed psi matrix:\n",
            "           [0]  [1]  [0, 1]  [2]  [0, 2]  [1, 2]  [0, 1, 2]\n",
            "[0]        1.0  0.0   0.167  0.0   0.000   0.000      0.000\n",
            "[1]        0.0  1.0   0.167  0.0   0.000   0.167      0.000\n",
            "[0, 1]    -0.0 -0.0   0.667  0.0   0.167   0.000      0.167\n",
            "[2]        0.0  0.0   0.000  1.0   0.000   0.167      0.000\n",
            "[0, 2]     0.0  0.0   0.000  0.0   0.000   0.000      0.000\n",
            "[1, 2]     0.0 -0.0   0.000 -0.0   0.167   0.667      0.167\n",
            "[0, 1, 2]  0.0  0.0   0.000  0.0   0.667   0.000      0.667\n",
            "HamNava values from matvec: [ 0.31581764 -0.35446818 -0.06397191]\n",
            "HamNava values from matrix: [ 0.31581763 -0.3544682  -0.06397192]\n",
            "HamNava values from limitd: [ 0.31581763 -0.3544682  -0.06397192]\n",
            "Triangular:\n",
            "           [0]  [1]    [0, 1]  [2]    [0, 2]    [1, 2]  [0, 1, 2]\n",
            "[0]        1.0  0.0  0.000000  0.0  0.833333  0.000000        0.0\n",
            "[1]        0.0  1.0  0.000000  0.0  0.166667  0.000000        0.0\n",
            "[0, 1]     0.0  0.0  0.833333  0.0  0.000000  0.000000        0.0\n",
            "[2]        0.0  0.0  0.000000  1.0  0.833333  0.000000        0.0\n",
            "[0, 2]     0.0  0.0  0.000000  0.0  0.000000  0.166667        0.0\n",
            "[1, 2]     0.0  0.0  0.166667  0.0  0.166667  0.833333        0.0\n",
            "[0, 1, 2]  0.0  0.0  0.000000  0.0  0.000000  0.000000        1.0\n",
            "HamNava values from shorte: [ 1.36087591 -0.18321524  0.72224367]\n"
          ]
        }
      ],
      "source": [
        "Psi = build_psi_graph(n, graph, epsilon)\n",
        "print('Psi matrix:')\n",
        "print_labelled_matrix(Psi)\n",
        "print('Exposed psi matrix:')\n",
        "print_labelled_matrix((unanimity_inv @ Psi @ unanimity).round(3))\n",
        "next_v = v_vector[1:]\n",
        "\n",
        "for j in range(50):\n",
        "    next_v = Psi @ next_v\n",
        "\n",
        "print('HamNava values from matvec:', extract_singleton_from_vector(next_v, n))\n",
        "\n",
        "next_Psi = Psi\n",
        "for j in range(60):\n",
        "    next_Psi = next_Psi @ Psi\n",
        "\n",
        "print('HamNava values from matrix:', extract_singleton_from_vector(next_Psi @ v_vector[1:], n))\n",
        "\n",
        "v_dict = convert_from_vector_to_dict(v_vector, n)\n",
        "\n",
        "next_v = v_dict\n",
        "for i in range(100):\n",
        "    next_v = compute_next_v_graph_dict(next_v, n, graph, epsilon)\n",
        "\n",
        "print('HamNava values from limitd:', extract_singleton_from_dict(next_v, n))\n",
        "\n",
        "unanimity = build_unanimity_basis(n)\n",
        "unanimity_inv = build_unanimity_basis(n, is_inverse=True)\n",
        "triangular = build_triangular_graph(n, graph, epsilon)\n",
        "empirical_limit = triangular\n",
        "for j in range(10):\n",
        "    empirical_limit = empirical_limit @ empirical_limit\n",
        "\n",
        "print('Triangular:')\n",
        "print_labelled_matrix(triangular)\n",
        "\n",
        "limiting_vec = unanimity @ empirical_limit @ unanimity_inv @ v_vector[1:]\n",
        "print('HamNava values from shorte:', extract_singleton_from_vector(limiting_vec, n))"
      ]
    },
    {
      "cell_type": "markdown",
      "metadata": {
        "id": "WeJ5Uamqimnv"
      },
      "source": [
        "## Matrix in the Limit"
      ]
    },
    {
      "cell_type": "code",
      "execution_count": 31,
      "metadata": {
        "colab": {
          "base_uri": "https://localhost:8080/"
        },
        "id": "3xJ9F2Q2ViEK",
        "outputId": "4cf44fdc-a83f-4aff-9632-4ec727948d72"
      },
      "outputs": [
        {
          "name": "stdout",
          "output_type": "stream",
          "text": [
            "[0.16666667 0.16666667 0.16666667 0.16666667 0.16666667 0.16666667\n",
            " 0.33333333]\n",
            "[0.16666667 0.16666667 0.16666667 0.16666667 0.16666667 0.16666667\n",
            " 0.33333333]\n",
            "             [0]       [1]    [0, 1]       [2]    [0, 2]    [1, 2]  [0, 1, 2]\n",
            "[0]     0.333333 -0.166667  0.166667 -0.166667  0.166667 -0.333333   0.333333\n",
            "[1]    -0.166667  0.333333  0.166667 -0.166667 -0.333333  0.166667   0.333333\n",
            "[0, 1] -0.166667 -0.166667 -0.333333  0.333333  0.166667  0.166667   0.333333\n"
          ]
        },
        {
          "data": {
            "text/plain": [
              "array([ 0.15937701, -0.04158696, -0.22041254])"
            ]
          },
          "execution_count": 31,
          "metadata": {},
          "output_type": "execute_result"
        }
      ],
      "source": [
        "def build_short_matrix(n):\n",
        "    short = np.zeros((n, 2**n-1))\n",
        "    for j in range(n):\n",
        "        valid_items = [i for i in range(n) if j != i]\n",
        "        for idx in range(2**n-1):\n",
        "            subset = [i for i in range(n) if (idx + 1 >> i) & 1]\n",
        "            size = len(subset)\n",
        "            size_w_j = size + 1 if j not in subset else size\n",
        "            #value = 0\n",
        "            #for ell in range(size_w_j, n+1):\n",
        "            #    value += 1/ell * (-1) ** (ell - size) \\\n",
        "            #        * math.comb(n - size_w_j, ell - size_w_j)\n",
        "            value = -1/(math.comb(n-1, size) *n) if j not in subset else 1/(math.comb(n-1, size-1) *n)\n",
        "            short[j, idx] = value\n",
        "    return short\n",
        "\n",
        "analytical_norm = []\n",
        "for idx in range(2**n-1):\n",
        "    subset = [i for i in range(n) if (idx+1>>i) & 1]\n",
        "    s = len(subset)\n",
        "    if s < n:\n",
        "        l2_norm = 1 / n * 1 / math.comb(n, s) * (1 / math.comb(n-1, s-1) + 1/ math.comb(n-1, s))\n",
        "    else:\n",
        "        l2_norm = 1/n\n",
        "    analytical_norm.append(l2_norm)\n",
        "\n",
        "short = build_short_matrix(n)\n",
        "\n",
        "print(np.array(analytical_norm))\n",
        "\n",
        "print(np.linalg.norm(short, axis=0)**2)\n",
        "\n",
        "print_labelled_matrix(short)\n",
        "\n",
        "\n",
        "short @ v_vector[1:]"
      ]
    },
    {
      "cell_type": "code",
      "execution_count": 32,
      "metadata": {
        "colab": {
          "base_uri": "https://localhost:8080/"
        },
        "id": "C3F7og2kio1a",
        "outputId": "3a16663a-a9b4-422d-89aa-926ddb76659d"
      },
      "outputs": [
        {
          "name": "stdout",
          "output_type": "stream",
          "text": [
            "           [0]  [1]    [0, 1]  [2]    [0, 2]    [1, 2]  [0, 1, 2]\n",
            "[0]        1.0  0.0  0.166667  0.0  0.166667  0.000000   0.000000\n",
            "[1]        0.0  1.0  0.166667  0.0  0.000000  0.166667   0.000000\n",
            "[0, 1]     0.0  0.0  0.666667  0.0  0.000000  0.000000   0.166667\n",
            "[2]        0.0  0.0  0.000000  1.0  0.166667  0.166667   0.000000\n",
            "[0, 2]     0.0  0.0  0.000000  0.0  0.666667  0.000000   0.166667\n",
            "[1, 2]     0.0  0.0  0.000000  0.0  0.000000  0.666667   0.166667\n",
            "[0, 1, 2]  0.0  0.0  0.000000  0.0  0.000000  0.000000   0.500000\n",
            "           [0]  [1]    [0, 1]  [2]    [0, 2]    [1, 2]  [0, 1, 2]\n",
            "[0]        1.0  0.0  0.000000  0.0  0.833333  0.000000        0.0\n",
            "[1]        0.0  1.0  0.000000  0.0  0.166667  0.000000        0.0\n",
            "[0, 1]     0.0  0.0  0.833333  0.0  0.000000  0.000000        0.0\n",
            "[2]        0.0  0.0  0.000000  1.0  0.833333  0.000000        0.0\n",
            "[0, 2]     0.0  0.0  0.000000  0.0  0.000000  0.166667        0.0\n",
            "[1, 2]     0.0  0.0  0.166667  0.0  0.166667  0.833333        0.0\n",
            "[0, 1, 2]  0.0  0.0  0.000000  0.0  0.000000  0.000000        1.0\n",
            "[ 1.36087591 -0.18321524  0.72224367]\n"
          ]
        }
      ],
      "source": [
        "\n",
        "\n",
        "\n",
        "triangular = build_triangular(n, epsilon)\n",
        "\n",
        "print_labelled_matrix(triangular)\n",
        "\n",
        "triangular = build_triangular_graph(n, graph, epsilon)\n",
        "\n",
        "print_labelled_matrix(triangular)\n",
        "\n",
        "empirical_tri_limit = np.linalg.matrix_power(triangular, 1000)\n",
        "\n",
        "P = build_unanimity_basis(n)\n",
        "P_inv = build_unanimity_basis(n, is_inverse=True)\n",
        "\n",
        "tri_limit = build_tri_limit(n)\n",
        "tri_limit = empirical_tri_limit\n",
        "\n",
        "result = P @ (tri_limit @ (P_inv @ v_vector[1:]))\n",
        "\n",
        "print(extract_singleton_from_vector(result,n))\n"
      ]
    },
    {
      "cell_type": "code",
      "execution_count": null,
      "metadata": {},
      "outputs": [],
      "source": []
    },
    {
      "cell_type": "code",
      "execution_count": 33,
      "metadata": {},
      "outputs": [
        {
          "data": {
            "image/png": "[encoded data removed]",
            "text/plain": [
              "<Figure size 640x480 with 1 Axes>"
            ]
          },
          "metadata": {},
          "output_type": "display_data"
        }
      ],
      "source": [
        "nx.draw(graph, with_labels=True)"
      ]
    },
    {
      "cell_type": "code",
      "execution_count": 34,
      "metadata": {},
      "outputs": [
        {
          "name": "stdout",
          "output_type": "stream",
          "text": [
            "           [0]  [1]  [0, 1]  [2]  [0, 2]  [1, 2]  [0, 1, 2]\n",
            "[0]        1.0  0.0     0.5  0.0     0.5     0.0       0.33\n",
            "[1]        0.0  1.0     0.5  0.0     0.0     0.5       0.33\n",
            "[0, 1]     0.0  0.0     0.0  0.0     0.0     0.0       0.00\n",
            "[2]        0.0  0.0     0.0  1.0     0.5     0.5       0.33\n",
            "[0, 2]     0.0  0.0     0.0  0.0     0.0     0.0       0.00\n",
            "[1, 2]     0.0  0.0     0.0  0.0     0.0     0.0       0.00\n",
            "[0, 1, 2]  0.0  0.0     0.0  0.0     0.0     0.0       0.00\n"
          ]
        }
      ],
      "source": [
        "print_labelled_matrix(build_tri_limit(n).round(2))"
      ]
    },
    {
      "cell_type": "code",
      "execution_count": 35,
      "metadata": {},
      "outputs": [
        {
          "name": "stdout",
          "output_type": "stream",
          "text": [
            "           [0]  [1]  [0, 1]  [2]  [0, 2]  [1, 2]  [0, 1, 2]\n",
            "[0]        1.0  0.0     1.0  0.0     1.0     1.0        0.0\n",
            "[1]        0.0  1.0     0.2  0.0     0.2     0.2        0.0\n",
            "[0, 1]     0.0  0.0     0.0  0.0     0.0     0.0        0.0\n",
            "[2]        0.0  0.0     1.0  1.0     1.0     1.0        0.0\n",
            "[0, 2]     0.0  0.0     0.0  0.0     0.0     0.0        0.0\n",
            "[1, 2]     0.0  0.0     0.0  0.0     0.0     0.0        0.0\n",
            "[0, 1, 2]  0.0  0.0     0.0  0.0     0.0     0.0        1.0\n"
          ]
        }
      ],
      "source": [
        "print_labelled_matrix(empirical_tri_limit.round(2))"
      ]
    }
  ],
  "metadata": {
    "colab": {
      "provenance": []
    },
    "kernelspec": {
      "display_name": "shapley",
      "language": "python",
      "name": "python3"
    },
    "language_info": {
      "codemirror_mode": {
        "name": "ipython",
        "version": 3
      },
      "file_extension": ".py",
      "mimetype": "text/x-python",
      "name": "python",
      "nbconvert_exporter": "python",
      "pygments_lexer": "ipython3",
      "version": "3.12.3"
    }
  },
  "nbformat": 4,
  "nbformat_minor": 0
}
