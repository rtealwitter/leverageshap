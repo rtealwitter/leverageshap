{
 "cells": [
  {
   "cell_type": "code",
   "execution_count": 137,
   "metadata": {},
   "outputs": [],
   "source": [
    "\n",
    "import math\n",
    "\n",
    "def ith_combination(pool, r, index):\n",
    "    # Function written by ChatGPT\n",
    "    \"\"\"\n",
    "    Compute the index-th combination (0-based) in lexicographic order\n",
    "    without generating all previous combinations.\n",
    "    \"\"\"\n",
    "    n = len(pool)\n",
    "    combination = []\n",
    "    elements_left = n\n",
    "    k = r\n",
    "    start = 0\n",
    "    \n",
    "    for i in range(r):\n",
    "        # Find the largest value for the first element in the combination\n",
    "        # that allows completing the remaining k-1 elements\n",
    "        for j in range(start, elements_left):\n",
    "            count = math.comb(elements_left - j - 1, k - 1)\n",
    "            if index < count:\n",
    "                combination.append(pool[j])\n",
    "                k -= 1\n",
    "                start = j + 1\n",
    "                break\n",
    "            index -= count\n",
    "    \n",
    "    return tuple(combination)\n",
    "\n",
    "def combination_generator(gen, n, s, num_samples):\n",
    "    \"\"\"\n",
    "    Generate num_samples random combinations of s elements from a pool num_samples of size n in two settings:\n",
    "    1. If the number of combinations is small (converting to an int does NOT cause an overflow error), randomly sample num_samples integers without replacement and generate the corresponding combinations on the fly with ith_combination.\n",
    "    2. If the number of combinations is large (converting to an int DOES cause an overflow error), randomly sample num_samples combinations directly with replacement.\n",
    "    \"\"\"\n",
    "    num_combos = math.comb(n, s)\n",
    "    try:\n",
    "        indices = gen.choice(num_combos, num_samples, replace=False)\n",
    "        for i in indices:\n",
    "            yield ith_combination(range(n), s, i)\n",
    "    except OverflowError:\n",
    "        for _ in range(num_samples):\n",
    "            yield gen.choice(n, s, replace=False)"
   ]
  },
  {
   "cell_type": "code",
   "execution_count": 138,
   "metadata": {},
   "outputs": [],
   "source": [
    "\n",
    "import numpy as np\n",
    "gen = np.random.default_rng()\n",
    "\n",
    "# 5 choose 3\n",
    "n = 100\n",
    "s = 50\n",
    "num_combos = math.comb(n, s)\n",
    "# Sample r random integers from 0 to num_combos -1 without replacement\n",
    "\n",
    "num_samples = 10\n",
    "        "
   ]
  },
  {
   "cell_type": "code",
   "execution_count": 155,
   "metadata": {},
   "outputs": [],
   "source": [
    "combo_gen = combination_generator(gen, n, s, num_samples)"
   ]
  },
  {
   "cell_type": "code",
   "execution_count": 166,
   "metadata": {},
   "outputs": [
    {
     "ename": "StopIteration",
     "evalue": "",
     "output_type": "error",
     "traceback": [
      "\u001b[0;31m---------------------------------------------------------------------------\u001b[0m",
      "\u001b[0;31mStopIteration\u001b[0m                             Traceback (most recent call last)",
      "Cell \u001b[0;32mIn[166], line 1\u001b[0m\n\u001b[0;32m----> 1\u001b[0m \u001b[38;5;28mnext\u001b[39m(combo_gen)\n",
      "\u001b[0;31mStopIteration\u001b[0m: "
     ]
    }
   ],
   "source": [
    "next(combo_gen)"
   ]
  }
 ],
 "metadata": {
  "kernelspec": {
   "display_name": "shapley",
   "language": "python",
   "name": "python3"
  },
  "language_info": {
   "codemirror_mode": {
    "name": "ipython",
    "version": 3
   },
   "file_extension": ".py",
   "mimetype": "text/x-python",
   "name": "python",
   "nbconvert_exporter": "python",
   "pygments_lexer": "ipython3",
   "version": "3.12.3"
  }
 },
 "nbformat": 4,
 "nbformat_minor": 2
}
