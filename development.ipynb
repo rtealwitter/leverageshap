{
 "cells": [
  {
   "cell_type": "code",
   "execution_count": 5,
   "metadata": {},
   "outputs": [],
   "source": [
    "import numpy as np\n",
    "import xgboost as xgb\n",
    "import shap\n",
    "\n",
    "import matplotlib.pyplot as plt"
   ]
  },
  {
   "cell_type": "code",
   "execution_count": 6,
   "metadata": {},
   "outputs": [],
   "source": [
    "def regression_adjustment(baseline, explicand, model, num_samples):\n",
    "    num_features = baseline.shape[1]\n",
    "    gen = np.random.Generator(np.random.PCG64())\n",
    "    eval_model = lambda X : model.predict(X)\n",
    "    num_samples //= 2\n",
    "    # Learn a model to explain the predictions of the original model\n",
    "    synth_data = np.tile(baseline, (num_samples, 1))\n",
    "    for idx in range(num_samples):\n",
    "        # randomly choose a subset of features to mask\n",
    "        sample_size = gen.integers(1, num_features, endpoint=True)\n",
    "        chosen = gen.choice(range(num_features), sample_size, replace=False)\n",
    "        # create masked input as combination of baseline and explicand\n",
    "        synth_data[idx, chosen] = explicand[0, chosen]\n",
    "\n",
    "    predictions = eval_model(synth_data)\n",
    "    shap_model = xgb.XGBRegressor(n_estimators=100, max_depth=4).fit(synth_data, predictions)\n",
    "    chosens = np.zeros((num_samples, num_features))\n",
    "\n",
    "    # Estimate shapley values for the explicand with regression adjustment\n",
    "    synth_data = np.tile(baseline, (num_samples, 1))\n",
    "    for idx in range(num_samples):\n",
    "        sample_size = gen.integers(1, num_features, endpoint=True)\n",
    "        chosen = gen.choice(range(num_features), sample_size, replace=False)\n",
    "        chosens[idx, chosen] = 1\n",
    "        synth_data[idx, chosen] = explicand[0, chosen]\n",
    "\n",
    "    predictions = eval_model(synth_data)\n",
    "    adjustment = shap_model.predict(synth_data)\n",
    "    adjustment_centered = adjustment - np.mean(adjustment)\n",
    "\n",
    "    phi = np.zeros((2,num_features))\n",
    "    num_values = np.zeros((2,num_features))\n",
    "    for idx in range(num_samples):\n",
    "        val = predictions[idx] - adjustment_centered[idx]\n",
    "        for i in range(num_features):\n",
    "            sign = 1 if chosens[idx,i] == 1 else 0\n",
    "            phi[sign,i] += val\n",
    "            num_values[sign,i] += 1\n",
    "\n",
    "    phi /= num_values\n",
    "    phi = phi[1] - phi[0]\n",
    "    return phi\n",
    "\n",
    "def kernel_shap(baseline, explicand, model, num_samples):\n",
    "    eval_model = lambda X : model.predict(X)\n",
    "\n",
    "    explainer = shap.KernelExplainer(eval_model, baseline)\n",
    "    shap_values = explainer.shap_values(explicand, nsamples=num_samples)\n",
    "    return shap_values\n",
    "\n",
    "def shapley_sampling(baseline, explicand, model, num_samples):\n",
    "    eval_model = lambda X : model.predict(X)\n",
    "    explainer = shap.SamplingExplainer(eval_model, baseline)\n",
    "    shap_values = explainer.shap_values(explicand, nsamples=num_samples)\n",
    "    return shap_values\n",
    "\n",
    "def tree_shap(baseline, explicand, model, num_samples):\n",
    "    explainer = shap.TreeExplainer(model, baseline)\n",
    "    shap_values = explainer.shap_values(explicand)\n",
    "    return shap_values\n",
    "\n",
    "def recycled_sampling(baseline, explicand, model, num_samples):\n",
    "    eval_model = lambda X : model.predict(X)\n",
    "    num_features = baseline.shape[1]\n",
    "    gen = np.random.Generator(np.random.PCG64())\n",
    "    synth_data = np.tile(baseline, (num_samples, 1))\n",
    "    chosens = np.zeros((num_samples, num_features))\n",
    "    for idx in range(num_samples):\n",
    "        sample_size = gen.integers(1, num_features, endpoint=True)\n",
    "        chosen = gen.choice(range(num_features), sample_size, replace=False)\n",
    "        chosens[idx, chosen] = 1\n",
    "        synth_data[idx, chosen] = explicand[0, chosen]\n",
    "    predictions = eval_model(synth_data)\n",
    "    phi = np.zeros(num_features)\n",
    "    for i in range(num_features):\n",
    "        included_indices = np.where(chosens[:,i] == 1)[0]\n",
    "        included = predictions[included_indices].mean()\n",
    "        excluded_indices = np.where(chosens[:,i] == 0)[0]\n",
    "        excluded = predictions[excluded_indices].mean()\n",
    "        phi[i] = included - excluded\n",
    "    return phi\n",
    "\n",
    "def uniform_sampling(baseline, explicand, model, num_samples):\n",
    "    num_features = baseline.shape[1]\n",
    "    gen = np.random.Generator(np.random.PCG64())\n",
    "    eval_model = lambda X : model.predict(X)\n",
    "    num_samples_per_feature = (num_samples // num_features) // 2\n",
    "    phi = np.zeros((1,num_features))\n",
    "    for i in range(num_features):\n",
    "        with_data = np.tile(baseline, (num_samples_per_feature, 1))\n",
    "        without_data = np.tile(baseline, (num_samples_per_feature, 1))\n",
    "        for idx in range(num_samples_per_feature):            \n",
    "            sample_size = gen.integers(1, num_features, endpoint=True)\n",
    "            chosen = gen.choice(range(num_features), sample_size, replace=False)\n",
    "            if i not in chosen:\n",
    "                chosen = np.append(chosen, i)\n",
    "            # With i included\n",
    "            with_data[idx, chosen] = explicand[0, chosen]\n",
    "            if i in chosen:\n",
    "                chosen = chosen[chosen != i]\n",
    "            # Without i included\n",
    "            without_data[idx, chosen] = explicand[0, chosen]\n",
    "        with_vals = eval_model(with_data)\n",
    "        without_vals = eval_model(without_data)\n",
    "        preds = with_vals - without_vals\n",
    "        learned_model = xgb.XGBRegressor(n_estimators=100, max_depth=4).fit(with_data, preds)\n",
    "        adjustment = learned_model.predict(with_data)\n",
    "        adjustment_centered = adjustment - np.mean(adjustment)\n",
    "        phi[0,i] = np.mean(with_vals - without_vals)\n",
    "    return phi\n",
    "\n",
    "def regression_shap(baseline, explicand, model, num_samples):\n",
    "    num_features = baseline.shape[1]\n",
    "    gen = np.random.Generator(np.random.PCG64())\n",
    "    eval_model = lambda X : model.predict(X)\n",
    "    num_samples_per_feature = (num_samples // num_features) // 2\n",
    "    phi = np.zeros((1,num_features))\n",
    "    for i in range(num_features):\n",
    "        with_data = np.tile(baseline, (num_samples_per_feature, 1))\n",
    "        without_data = np.tile(baseline, (num_samples_per_feature, 1))\n",
    "        for idx in range(num_samples_per_feature):            \n",
    "            sample_size = gen.integers(1, num_features, endpoint=True)\n",
    "            chosen = gen.choice(range(num_features), sample_size, replace=False)\n",
    "            if i not in chosen:\n",
    "                chosen = np.append(chosen, i)\n",
    "            # With i included\n",
    "            with_data[idx, chosen] = explicand[0, chosen]\n",
    "            if i in chosen:\n",
    "                chosen = chosen[chosen != i]\n",
    "            # Without i included\n",
    "            without_data[idx, chosen] = explicand[0, chosen]\n",
    "        with_vals = eval_model(with_data)\n",
    "        without_vals = eval_model(without_data)\n",
    "        X = np.concatenate((with_data, without_data))\n",
    "        y = np.concatenate((with_vals, without_vals))\n",
    "        learned_model = xgb.XGBRegressor(n_estimators=100, max_depth=4).fit(X, y)\n",
    "        adjustment_with = learned_model.predict(with_data)\n",
    "        adjustment_without = learned_model.predict(without_data)\n",
    "        adjustment_with_centered = adjustment_with - np.mean(adjustment_with)\n",
    "        adjustment_without_centered = adjustment_without - np.mean(adjustment_without)\n",
    "        phi[0,i] = np.mean(with_vals - without_vals - adjustment_with_centered + adjustment_without_centered)\n",
    "    return phi\n",
    "\n",
    "def uniform_sampling_adjusted(baseline, explicand, model, num_samples):\n",
    "    num_features = baseline.shape[1]\n",
    "    gen = np.random.Generator(np.random.PCG64())\n",
    "    eval_model = lambda X : model.predict(X)\n",
    "    num_samples_per_feature = (num_samples // num_features) // 2\n",
    "    phi = np.zeros((1,num_features))\n",
    "    for i in range(num_features):\n",
    "        with_data = np.tile(baseline, (num_samples_per_feature, 1))\n",
    "        without_data = np.tile(baseline, (num_samples_per_feature, 1))\n",
    "        for idx in range(num_samples_per_feature):            \n",
    "            sample_size = gen.integers(1, num_features, endpoint=True)\n",
    "            chosen = gen.choice(range(num_features), sample_size, replace=False)\n",
    "            if i not in chosen:\n",
    "                chosen = np.append(chosen, i)\n",
    "            # With i included\n",
    "            with_data[idx, chosen] = explicand[0, chosen]\n",
    "            if i in chosen:\n",
    "                chosen = chosen[chosen != i]\n",
    "            # Without i included\n",
    "            without_data[idx, chosen] = explicand[0, chosen]\n",
    "        with_vals = eval_model(with_data)\n",
    "        without_vals = eval_model(without_data)\n",
    "        preds = with_vals - without_vals\n",
    "        learned_model = xgb.XGBRegressor(n_estimators=100, max_depth=4).fit(with_data, preds)\n",
    "        adjustment = learned_model.predict(with_data)\n",
    "        adjustment_centered = adjustment - np.mean(adjustment)\n",
    "        phi[0,i] = np.mean(with_vals - without_vals - adjustment_centered)\n",
    "    return phi\n",
    "\n",
    "\n",
    "def uniform_sampling(baseline, explicand, model, num_samples):\n",
    "    num_features = baseline.shape[1]\n",
    "    gen = np.random.Generator(np.random.PCG64())\n",
    "    eval_model = lambda X : model.predict(X)\n",
    "    num_samples_per_feature = (num_samples // num_features) // 2\n",
    "    phi = np.zeros((1,num_features))\n",
    "    for i in range(num_features):\n",
    "        with_data = np.tile(baseline, (num_samples_per_feature, 1))\n",
    "        without_data = np.tile(baseline, (num_samples_per_feature, 1))\n",
    "        for idx in range(num_samples_per_feature):            \n",
    "            sample_size = gen.integers(1, num_features, endpoint=True)\n",
    "            chosen = gen.choice(range(num_features), sample_size, replace=False)\n",
    "            if i not in chosen:\n",
    "                chosen = np.append(chosen, i)\n",
    "            # With i included\n",
    "            with_data[idx, chosen] = explicand[0, chosen]\n",
    "            if i in chosen:\n",
    "                chosen = chosen[chosen != i]\n",
    "            # Without i included\n",
    "            without_data[idx, chosen] = explicand[0, chosen]\n",
    "        with_vals = eval_model(with_data)\n",
    "        without_vals = eval_model(without_data)\n",
    "        phi[0,i] = np.mean(with_vals - without_vals)\n",
    "    return phi\n",
    "\n",
    "algorithms = {\n",
    "    #'Kernel SHAP': kernel_shap,\n",
    "    'Sampling SHAP': shapley_sampling,\n",
    "    #'Regression SHAP': regression_adjustment,\n",
    "    #'Uniform' : uniform_sampling,\n",
    "    #'Recycled' : recycled_sampling,\n",
    "    #'Uniform Adjusted' : uniform_sampling_adjusted,\n",
    "    #'Regression SHAP' : regression_shap\n",
    "}"
   ]
  },
  {
   "cell_type": "code",
   "execution_count": 7,
   "metadata": {},
   "outputs": [
    {
     "name": "stdout",
     "output_type": "stream",
     "text": [
      "(1, 101)\n",
      "(1, 101)\n"
     ]
    },
    {
     "name": "stderr",
     "output_type": "stream",
     "text": [
      "100%|██████████| 1/1 [00:00<00:00, 75.41it/s]\n"
     ]
    },
    {
     "name": "stdout",
     "output_type": "stream",
     "text": [
      "(1, 101)\n",
      "(1, 101)\n"
     ]
    },
    {
     "name": "stderr",
     "output_type": "stream",
     "text": [
      "100%|██████████| 1/1 [00:00<00:00, 54.22it/s]\n"
     ]
    },
    {
     "name": "stdout",
     "output_type": "stream",
     "text": [
      "(1, 101)\n",
      "(1, 101)\n"
     ]
    },
    {
     "name": "stderr",
     "output_type": "stream",
     "text": [
      "100%|██████████| 1/1 [00:00<00:00, 50.51it/s]\n"
     ]
    },
    {
     "name": "stdout",
     "output_type": "stream",
     "text": [
      "(1, 101)\n",
      "(1, 101)\n"
     ]
    },
    {
     "name": "stderr",
     "output_type": "stream",
     "text": [
      "100%|██████████| 1/1 [00:00<00:00, 41.19it/s]\n"
     ]
    },
    {
     "name": "stdout",
     "output_type": "stream",
     "text": [
      "(1, 101)\n",
      "(1, 101)\n"
     ]
    },
    {
     "name": "stderr",
     "output_type": "stream",
     "text": [
      "100%|██████████| 1/1 [00:00<00:00, 29.32it/s]\n"
     ]
    },
    {
     "name": "stdout",
     "output_type": "stream",
     "text": [
      "(1, 101)\n",
      "(1, 101)\n"
     ]
    },
    {
     "name": "stderr",
     "output_type": "stream",
     "text": [
      "100%|██████████| 1/1 [00:00<00:00, 13.20it/s]\n"
     ]
    },
    {
     "name": "stdout",
     "output_type": "stream",
     "text": [
      "(1, 101)\n",
      "(1, 101)\n"
     ]
    },
    {
     "name": "stderr",
     "output_type": "stream",
     "text": [
      "100%|██████████| 1/1 [00:00<00:00,  5.68it/s]\n"
     ]
    }
   ],
   "source": [
    "X, y = shap.datasets.communitiesandcrime()\n",
    "\n",
    "# Train xgboost classifier\n",
    "model = xgb.XGBRegressor(n_estimators=100, max_depth=4)\n",
    "model.fit(X, y)\n",
    "num_samples = 1000\n",
    "\n",
    "eval_model = lambda X : model.predict(X)\n",
    "\n",
    "baseline_idx = 100\n",
    "explicand_idx = 10\n",
    "baseline = X.iloc[baseline_idx].values.reshape(1, -1)\n",
    "#baseline = np.zeros_like(baseline)\n",
    "#baseline = X.mean(axis=0).values.reshape(1, -1)\n",
    "explicand = X.iloc[explicand_idx].values.reshape(1, -1)\n",
    "num_features = X.shape[1]\n",
    "\n",
    "results = {}\n",
    "sample_sizes = [200, 300, 500, 1000, 2000, 5000, 10000]\n",
    "true_shap_values = tree_shap(baseline, explicand, model, num_samples)\n",
    "for name, algorithm in algorithms.items():     \n",
    "    results[name] = []\n",
    "\n",
    "    for num_samples in sample_sizes:\n",
    "        print(baseline.shape)\n",
    "        print(explicand.shape)\n",
    "        shap_values = algorithm(baseline, explicand, model, num_samples)\n",
    "        error = ((shap_values - true_shap_values)**2).mean()\n",
    "        results[name].append(error)"
   ]
  },
  {
   "cell_type": "code",
   "execution_count": 8,
   "metadata": {},
   "outputs": [
    {
     "data": {
      "text/plain": [
       "<matplotlib.legend.Legend at 0x174b67140>"
      ]
     },
     "execution_count": 8,
     "metadata": {},
     "output_type": "execute_result"
    },
    {
     "data": {
      "image/png": "[encoded data removed]",
      "text/plain": [
       "<Figure size 640x480 with 1 Axes>"
      ]
     },
     "metadata": {},
     "output_type": "display_data"
    }
   ],
   "source": [
    "for name, errors in results.items():\n",
    "    plt.plot(sample_sizes, errors, label=name)\n",
    "# horizontal line at 0\n",
    "plt.axhline(0, color='black', linestyle='--')\n",
    "plt.yscale('log')\n",
    "plt.legend()"
   ]
  }
 ],
 "metadata": {
  "kernelspec": {
   "display_name": "shapley",
   "language": "python",
   "name": "python3"
  },
  "language_info": {
   "codemirror_mode": {
    "name": "ipython",
    "version": 3
   },
   "file_extension": ".py",
   "mimetype": "text/x-python",
   "name": "python",
   "nbconvert_exporter": "python",
   "pygments_lexer": "ipython3",
   "version": "3.12.3"
  }
 },
 "nbformat": 4,
 "nbformat_minor": 2
}
