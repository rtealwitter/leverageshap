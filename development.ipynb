{
 "cells": [
  {
   "cell_type": "code",
   "execution_count": 1,
   "metadata": {},
   "outputs": [
    {
     "name": "stderr",
     "output_type": "stream",
     "text": [
      "/opt/homebrew/Caskroom/miniconda/base/envs/shapley/lib/python3.12/site-packages/tqdm/auto.py:21: TqdmWarning: IProgress not found. Please update jupyter and ipywidgets. See https://ipywidgets.readthedocs.io/en/stable/user_install.html\n",
      "  from .autonotebook import tqdm as notebook_tqdm\n"
     ]
    }
   ],
   "source": [
    "import numpy as np\n",
    "import shap\n",
    "import xgboost as xgb\n",
    "import matplotlib.pyplot as plt"
   ]
  },
  {
   "cell_type": "code",
   "execution_count": 420,
   "metadata": {},
   "outputs": [],
   "source": [
    "def regression_adjustment(baseline, explicand, model, num_samples, num_features):\n",
    "    gen = np.random.Generator(np.random.PCG64())\n",
    "    eval_model = lambda X : model.predict(X)\n",
    "    num_samples //= 2\n",
    "    # Learn a model to explain the predictions of the original model\n",
    "    synth_data = np.tile(baseline, (num_samples, 1))\n",
    "    for idx in range(num_samples):\n",
    "        # randomly choose a subset of features to mask\n",
    "        sample_size = gen.integers(1, num_features, endpoint=True)\n",
    "        chosen = gen.choice(range(num_features), sample_size, replace=False)\n",
    "        # create masked input as combination of baseline and explicand\n",
    "        synth_data[idx, chosen] = explicand[0, chosen]\n",
    "\n",
    "    predictions = eval_model(synth_data)\n",
    "    shap_model = xgb.XGBRegressor(n_estimators=100, max_depth=4).fit(synth_data, predictions)\n",
    "    chosens = np.zeros((num_samples, num_features))\n",
    "\n",
    "    # Estimate shapley values for the explicand with regression adjustment\n",
    "    synth_data = np.tile(baseline, (num_samples, 1))\n",
    "    for idx in range(num_samples):\n",
    "        sample_size = gen.integers(1, num_features, endpoint=True)\n",
    "        chosen = gen.choice(range(num_features), sample_size, replace=False)\n",
    "        chosens[idx, chosen] = 1\n",
    "        synth_data[idx, chosen] = explicand[0, chosen]\n",
    "\n",
    "    predictions = eval_model(synth_data)\n",
    "    adjustment = shap_model.predict(synth_data)\n",
    "\n",
    "    phi = np.zeros((2,num_features))\n",
    "    num_values = np.zeros((2,num_features))\n",
    "    for idx in range(num_samples):\n",
    "        val = predictions[idx] - adjustment[idx]\n",
    "        for i in range(num_features):\n",
    "            sign = 1 if chosens[idx,i] == 1 else 0\n",
    "            phi[sign,i] += val\n",
    "            num_values[sign,i] += 1\n",
    "\n",
    "    phi /= num_values\n",
    "    phi = phi[1] - phi[0]\n",
    "    return phi\n",
    "\n",
    "def kernel_shap(baseline, explicand, model, num_samples, num_features):\n",
    "    eval_model = lambda X : model.predict(X)\n",
    "\n",
    "    explainer = shap.KernelExplainer(eval_model, baseline)\n",
    "    shap_values = explainer.shap_values(explicand, nsamples=num_samples)\n",
    "    return shap_values\n",
    "\n",
    "def shapley_sampling(baseline, explicand, model, num_samples, num_features):\n",
    "    eval_model = lambda X : model.predict(X)\n",
    "    explainer = shap.SamplingExplainer(eval_model, baseline)\n",
    "    shap_values = explainer.shap_values(explicand, nsamples=num_samples)\n",
    "    return shap_values\n",
    "\n",
    "def tree_shap(explicand, model):\n",
    "    explainer = shap.TreeExplainer(model)\n",
    "    shap_values = explainer.shap_values(explicand)\n",
    "    return shap_values\n",
    "\n",
    "algorithms = {\n",
    "    'Kernel SHAP': kernel_shap,\n",
    "    'Sampling SHAP': shapley_sampling,\n",
    "    'Regression SHAP': regression_adjustment\n",
    "}"
   ]
  },
  {
   "cell_type": "code",
   "execution_count": 429,
   "metadata": {},
   "outputs": [
    {
     "name": "stderr",
     "output_type": "stream",
     "text": [
      "100%|██████████| 1/1 [00:00<00:00,  1.74it/s]\n",
      "100%|██████████| 1/1 [00:00<00:00,  1.73it/s]\n",
      "100%|██████████| 1/1 [00:00<00:00,  1.72it/s]\n",
      "100%|██████████| 1/1 [00:00<00:00,  2.97it/s]\n",
      "100%|██████████| 1/1 [00:00<00:00,  1.65it/s]\n",
      "100%|██████████| 1/1 [00:00<00:00,  1.40it/s]\n",
      "100%|██████████| 1/1 [00:00<00:00,  1.30it/s]\n",
      "100%|██████████| 1/1 [00:00<00:00, 21.50it/s]\n",
      "100%|██████████| 1/1 [00:00<00:00, 16.48it/s]\n",
      "100%|██████████| 1/1 [00:00<00:00, 17.82it/s]\n",
      "100%|██████████| 1/1 [00:00<00:00, 13.01it/s]\n",
      "100%|██████████| 1/1 [00:00<00:00, 30.46it/s]\n",
      "100%|██████████| 1/1 [00:00<00:00, 16.40it/s]\n",
      "100%|██████████| 1/1 [00:00<00:00,  9.07it/s]\n"
     ]
    }
   ],
   "source": [
    "X, y = shap.datasets.communitiesandcrime()\n",
    "\n",
    "# Train xgboost classifier\n",
    "model = xgb.XGBRegressor(n_estimators=100, max_depth=4)\n",
    "model.fit(X, y)\n",
    "num_samples = 1000\n",
    "\n",
    "eval_model = lambda X : model.predict(X)\n",
    "\n",
    "baseline_idx = 100\n",
    "explicand_idx = 10\n",
    "baseline = X.iloc[baseline_idx].values.reshape(1, -1)\n",
    "baseline = np.zeros_like(baseline)\n",
    "#baseline = X.mean(axis=0).values.reshape(1, -1)\n",
    "explicand = X.iloc[explicand_idx].values.reshape(1, -1)\n",
    "num_features = X.shape[1]\n",
    "\n",
    "results = {}\n",
    "sample_sizes = [200, 300, 500, 1000, 2000, 5000, 10000]\n",
    "true_shap_values = tree_shap(explicand, model)\n",
    "for name, algorithm in algorithms.items():     \n",
    "    results[name] = []\n",
    "\n",
    "    for num_samples in sample_sizes:\n",
    "        shap_values = algorithm(baseline, explicand, model, num_samples, num_features)\n",
    "        error = ((shap_values - true_shap_values)**2).mean()\n",
    "        results[name].append(error)"
   ]
  },
  {
   "cell_type": "code",
   "execution_count": 430,
   "metadata": {},
   "outputs": [
    {
     "data": {
      "text/plain": [
       "<matplotlib.legend.Legend at 0x15f803b90>"
      ]
     },
     "execution_count": 430,
     "metadata": {},
     "output_type": "execute_result"
    },
    {
     "data": {
      "image/png": "[encoded data removed]",
      "text/plain": [
       "<Figure size 640x480 with 1 Axes>"
      ]
     },
     "metadata": {},
     "output_type": "display_data"
    }
   ],
   "source": [
    "for name, errors in results.items():\n",
    "    plt.plot(sample_sizes, errors, label=name)\n",
    "plt.legend()"
   ]
  },
  {
   "cell_type": "code",
   "execution_count": 410,
   "metadata": {},
   "outputs": [
    {
     "name": "stderr",
     "output_type": "stream",
     "text": [
      "100%|██████████| 1/1 [00:00<00:00, 47.85it/s]"
     ]
    },
    {
     "name": "stdout",
     "output_type": "stream",
     "text": [
      "[[ -4.0114723    4.26971087  19.00228632  58.1592551    0.\n",
      "   -3.63769206   0.         -11.18869115   0.           0.\n",
      "   67.38929394 -27.46067675   0.          34.02786283   0.\n",
      "  503.32765842   0.          72.29528108   3.88255125   6.61520736\n",
      "   11.39699217  11.69989071   0.           1.40990114   0.\n",
      "    0.          -7.19880338   6.42917496 -11.14583495  -1.13534835\n",
      "   -3.37379346 -45.98689044   0.         -43.34532227  32.43324638\n",
      "   23.07030613 -41.17122367 340.35349803   0.         136.33461446\n",
      "   12.10261445  -1.83482839 191.96593688 291.5514333  -44.14380289\n",
      "  -78.56218717   0.           9.47765289  -3.12732123 396.19993308\n",
      "   47.44442369  65.23986816  15.95388794   0.           0.\n",
      "    0.           0.           0.           0.          84.12222304\n",
      "    5.96734746 -78.69950086 -21.19799805  15.48982205  -9.05459595\n",
      "   47.66769409   0.         180.76826674  18.88839566   0.\n",
      "   16.76332133   0.           0.         -55.15928936  -9.01249313\n",
      "   12.64725083 -16.87774658 -15.32875902   0.           0.\n",
      "    0.          19.51355743   0.           0.           0.\n",
      "   11.40903966  -8.86023608  32.1361034  -13.65596238  99.53099368\n",
      "    0.         103.36892258   0.         -76.30223167  51.04079147\n",
      "    0.          52.96616938 -13.01367188  99.63964929   0.\n",
      "    0.        ]]\n"
     ]
    },
    {
     "name": "stderr",
     "output_type": "stream",
     "text": [
      "\n"
     ]
    }
   ],
   "source": [
    "\n",
    "\n",
    "\n",
    "explainer = shap.SamplingExplainer(eval_model, baseline)\n",
    "shap_values = explainer.shap_values(explicand, nsamples=300)\n",
    "print(shap_values)"
   ]
  },
  {
   "cell_type": "code",
   "execution_count": 391,
   "metadata": {},
   "outputs": [
    {
     "data": {
      "text/plain": [
       "array([[ 5.84534216e+00, -6.05191886e-01,  4.94745865e+01,\n",
       "         6.19117928e+01, -2.07110450e-01, -8.18207645e+00,\n",
       "         4.20482111e+00,  6.90150499e-01, -4.42987204e-01,\n",
       "        -8.19245625e+00,  2.43718987e+01, -4.27111506e-01,\n",
       "         1.37663803e+01,  4.06307220e+01, -9.17813957e-01,\n",
       "         1.64138367e+02,  6.24995279e+00,  1.51141977e+01,\n",
       "         4.87994814e+00,  1.49512529e+01, -3.20037031e+00,\n",
       "        -4.83448327e-01, -1.69432831e+01,  2.83146238e+00,\n",
       "        -5.76462364e+00, -3.22441673e+00, -5.47381210e+00,\n",
       "         2.36307220e+01,  1.30886135e+01, -3.71887112e+00,\n",
       "        -2.13659072e+00, -2.00817890e+01, -1.07223904e+00,\n",
       "        -9.49148750e+00,  1.71599007e+01,  1.56880474e+01,\n",
       "        -2.12320280e+00,  1.72807755e+02, -2.41655707e+00,\n",
       "         8.56737518e+01,  7.53931046e+00,  1.49550617e+00,\n",
       "         1.25886238e+02,  3.45318726e+02,  9.48918724e+00,\n",
       "        -4.36615219e+01, -3.80659819e+00,  1.06132784e+01,\n",
       "        -3.75394897e+01,  3.56823822e+02,  2.72032471e+01,\n",
       "         9.54315758e+00, -5.83856869e+00, -1.73851848e+00,\n",
       "        -1.03020706e+01,  7.79926443e+00,  9.54387248e-01,\n",
       "         0.00000000e+00, -1.49800742e+00,  3.04239941e+01,\n",
       "         2.22881985e+00,  1.80675034e+02, -3.36244702e+00,\n",
       "         1.17246401e+00, -1.41918361e-01,  2.42925816e+01,\n",
       "        -7.93221235e-01,  1.40894806e+02,  5.76272316e+01,\n",
       "         0.00000000e+00, -3.88212037e+00,  4.71245646e-01,\n",
       "        -6.09132147e+00, -1.15407343e+01,  1.57403195e+00,\n",
       "         3.44688821e+00, -1.27663975e+01, -3.65040541e+00,\n",
       "         3.79876757e+00, -8.10502172e-01,  4.13373756e+00,\n",
       "         2.75871048e+01, -5.16954899e-01,  8.67058992e-01,\n",
       "        -5.97515917e+00,  1.01108084e+01,  5.27432299e+00,\n",
       "         2.02726727e+01, -8.71040726e+00,  2.65890274e+01,\n",
       "        -2.06682968e+01,  6.82538300e+01,  2.88217163e+00,\n",
       "         6.03619218e-01,  9.87455487e-01,  1.07141876e+00,\n",
       "        -1.49475193e+01, -3.88935566e+00,  1.15988365e+02,\n",
       "         7.47744179e+00,  1.64570427e+00]], dtype=float32)"
      ]
     },
     "execution_count": 391,
     "metadata": {},
     "output_type": "execute_result"
    }
   ],
   "source": [
    "explainer = shap.TreeExplainer(model)\n",
    "explainer.shap_values(explicand)"
   ]
  },
  {
   "cell_type": "code",
   "execution_count": 316,
   "metadata": {},
   "outputs": [
    {
     "data": {
      "text/html": [
       "\n",
       "<div id='i3JBLC0ZLQ354OEPF5HU3'>\n",
       "<div style='color: #900; text-align: center;'>\n",
       "  <b>Visualization omitted, Javascript library not loaded!</b><br>\n",
       "  Have you run `initjs()` in this notebook? If this notebook was from another\n",
       "  user you must also trust this notebook (File -> Trust notebook). If you are viewing\n",
       "  this notebook on github the Javascript has been stripped for security. If you are using\n",
       "  JupyterLab this error is because a JupyterLab extension has not yet been written.\n",
       "</div></div>\n",
       " <script>\n",
       "   if (window.SHAP) SHAP.ReactDom.render(\n",
       "    SHAP.React.createElement(SHAP.AdditiveForceVisualizer, {\"outNames\": [\"f(x)\"], \"baseValue\": 325.9964294433594, \"outValue\": 2671.873779296875, \"link\": \"identity\", \"featureNames\": [\"Feature 0\", \"Feature 1\", \"Feature 2\", \"Feature 3\", \"Feature 4\", \"Feature 5\", \"Feature 6\", \"Feature 7\", \"Feature 8\", \"Feature 9\", \"Feature 10\", \"Feature 11\", \"Feature 12\", \"Feature 13\", \"Feature 14\", \"Feature 15\", \"Feature 16\", \"Feature 17\", \"Feature 18\", \"Feature 19\", \"Feature 20\", \"Feature 21\", \"Feature 22\", \"Feature 23\", \"Feature 24\", \"Feature 25\", \"Feature 26\", \"Feature 27\", \"Feature 28\", \"Feature 29\", \"Feature 30\", \"Feature 31\", \"Feature 32\", \"Feature 33\", \"Feature 34\", \"Feature 35\", \"Feature 36\", \"Feature 37\", \"Feature 38\", \"Feature 39\", \"Feature 40\", \"Feature 41\", \"Feature 42\", \"Feature 43\", \"Feature 44\", \"Feature 45\", \"Feature 46\", \"Feature 47\", \"Feature 48\", \"Feature 49\", \"Feature 50\", \"Feature 51\", \"Feature 52\", \"Feature 53\", \"Feature 54\", \"Feature 55\", \"Feature 56\", \"Feature 57\", \"Feature 58\", \"Feature 59\", \"Feature 60\", \"Feature 61\", \"Feature 62\", \"Feature 63\", \"Feature 64\", \"Feature 65\", \"Feature 66\", \"Feature 67\", \"Feature 68\", \"Feature 69\", \"Feature 70\", \"Feature 71\", \"Feature 72\", \"Feature 73\", \"Feature 74\", \"Feature 75\", \"Feature 76\", \"Feature 77\", \"Feature 78\", \"Feature 79\", \"Feature 80\", \"Feature 81\", \"Feature 82\", \"Feature 83\", \"Feature 84\", \"Feature 85\", \"Feature 86\", \"Feature 87\", \"Feature 88\", \"Feature 89\", \"Feature 90\", \"Feature 91\", \"Feature 92\", \"Feature 93\", \"Feature 94\", \"Feature 95\", \"Feature 96\", \"Feature 97\", \"Feature 98\", \"Feature 99\", \"Feature 100\"], \"features\": {\"0\": {\"effect\": -3.990182754481956, \"value\": 25158.0}, \"2\": {\"effect\": 65.68043717373551, \"value\": 21.34}, \"3\": {\"effect\": 116.77976022932509, \"value\": 49.42}, \"4\": {\"effect\": 24.375871903527816, \"value\": 17.21}, \"5\": {\"effect\": -17.29791743729714, \"value\": 26.78}, \"7\": {\"effect\": -21.89153305324835, \"value\": 28.82}, \"8\": {\"effect\": 1.3998579323018703, \"value\": 13.23}, \"9\": {\"effect\": -3.88616433259507, \"value\": 9.44}, \"10\": {\"effect\": 19.51383650918588, \"value\": 25158.0}, \"11\": {\"effect\": -8.249792576216228, \"value\": 100.0}, \"12\": {\"effect\": -4.807739319157893, \"value\": 25479.0}, \"13\": {\"effect\": -5.9640900983220915, \"value\": 73.45}, \"14\": {\"effect\": 22.340080215450236, \"value\": 0.0}, \"15\": {\"effect\": 210.98132553122767, \"value\": 24.98}, \"16\": {\"effect\": -13.89240114439156, \"value\": 22.99}, \"17\": {\"effect\": 43.22700589464329, \"value\": 23.63}, \"18\": {\"effect\": 35.906316915234356, \"value\": 13.18}, \"19\": {\"effect\": 10.413059147899727, \"value\": 28567.0}, \"22\": {\"effect\": -8.916784742361408, \"value\": 10412.0}, \"23\": {\"effect\": 1.877721932858065, \"value\": 8238.0}, \"24\": {\"effect\": 11.032057974197635, \"value\": 9546.0}, \"25\": {\"effect\": 10.802429777210367, \"value\": 7813.0}, \"26\": {\"effect\": -17.295113149949408, \"value\": 4689.0}, \"27\": {\"effect\": -3.20728760307162, \"value\": 19.02}, \"31\": {\"effect\": -4.666296674440354, \"value\": 10.16}, \"33\": {\"effect\": -3.323427901319006, \"value\": 15.39}, \"34\": {\"effect\": 76.65474671719178, \"value\": 20.63}, \"35\": {\"effect\": 27.018030878200125, \"value\": 17.38}, \"37\": {\"effect\": 222.2575798796182, \"value\": 13.91}, \"39\": {\"effect\": 161.83164827781258, \"value\": 18.96}, \"40\": {\"effect\": -20.88194484903584, \"value\": 16.57}, \"41\": {\"effect\": 5.623563011889347, \"value\": 3.47}, \"42\": {\"effect\": 147.0937456092084, \"value\": 58.06}, \"43\": {\"effect\": 54.23943977780346, \"value\": 56.36}, \"44\": {\"effect\": -8.652265273854146, \"value\": 61.46}, \"45\": {\"effect\": 9.136544964398922, \"value\": 57.16}, \"46\": {\"effect\": -54.78135453494124, \"value\": 58.63}, \"47\": {\"effect\": 9.36870580099133, \"value\": 61.68}, \"48\": {\"effect\": 67.46778469735007, \"value\": 1479.0}, \"49\": {\"effect\": 161.80859946160956, \"value\": 7.44}, \"51\": {\"effect\": 6.530856361676352, \"value\": 21.87}, \"52\": {\"effect\": -16.006534502449323, \"value\": 32.75}, \"53\": {\"effect\": -2.8499687852799758, \"value\": 47.67}, \"54\": {\"effect\": -35.063077028162525, \"value\": 62.3}, \"55\": {\"effect\": 89.21089385633415, \"value\": 5.78}, \"56\": {\"effect\": -39.40648187909356, \"value\": 8.65}, \"58\": {\"effect\": -8.89538949306806, \"value\": 16.46}, \"59\": {\"effect\": 39.07205347810592, \"value\": 60.3}, \"60\": {\"effect\": 11.990831144999335, \"value\": 10.8}, \"61\": {\"effect\": 174.37684947813295, \"value\": 12.43}, \"62\": {\"effect\": -7.5431594285054455, \"value\": 8.45}, \"65\": {\"effect\": 14.817153442969259, \"value\": 2.79}, \"66\": {\"effect\": -4.020838825250124, \"value\": 48.07}, \"67\": {\"effect\": 155.19751817531386, \"value\": 18.18}, \"68\": {\"effect\": 186.41937844107758, \"value\": 72.06}, \"69\": {\"effect\": 1.9859342981058712, \"value\": 2.0}, \"70\": {\"effect\": 13.755276260810206, \"value\": 714.0}, \"71\": {\"effect\": 18.43407126638667, \"value\": 92.42}, \"72\": {\"effect\": -9.652020800236418, \"value\": 47.14}, \"74\": {\"effect\": 34.383033900562154, \"value\": 18.35}, \"75\": {\"effect\": 6.688037876965168, \"value\": 1963.0}, \"78\": {\"effect\": 11.229731010947754, \"value\": 92800.0}, \"79\": {\"effect\": -4.1144301744886365, \"value\": 117900.0}, \"80\": {\"effect\": -25.270294662781005, \"value\": 142700.0}, \"81\": {\"effect\": 65.43472197506006, \"value\": 49900.0}, \"82\": {\"effect\": -13.550622718728565, \"value\": 406.0}, \"83\": {\"effect\": 13.889591434931027, \"value\": 503.0}, \"85\": {\"effect\": 43.22845168410481, \"value\": 190.0}, \"86\": {\"effect\": 62.24438353086476, \"value\": 564.0}, \"87\": {\"effect\": -7.141575345705263, \"value\": 33.0}, \"88\": {\"effect\": -14.838522147690542, \"value\": 24.3}, \"89\": {\"effect\": 102.30146963051314, \"value\": 11.8}, \"90\": {\"effect\": -24.66672407363453, \"value\": 20.0}, \"91\": {\"effect\": 241.1096502948657, \"value\": 49.0}, \"93\": {\"effect\": -38.78831416403533, \"value\": 47.45}, \"94\": {\"effect\": -15.742608016811213, \"value\": 38.61}, \"95\": {\"effect\": -41.33964791309537, \"value\": 69.21}, \"96\": {\"effect\": -86.20016764990928, \"value\": 89.27}, \"97\": {\"effect\": -28.89586095092365, \"value\": 2.7}, \"98\": {\"effect\": 165.4593776432099, \"value\": 9387.3}, \"99\": {\"effect\": -3.021531540759952, \"value\": 11.22}}, \"plot_cmap\": \"RdBu\", \"labelMargin\": 20}),\n",
       "    document.getElementById('i3JBLC0ZLQ354OEPF5HU3')\n",
       "  );\n",
       "</script>"
      ],
      "text/plain": [
       "<shap.plots._force.AdditiveForceVisualizer at 0x314833f20>"
      ]
     },
     "execution_count": 316,
     "metadata": {},
     "output_type": "execute_result"
    }
   ],
   "source": [
    "shap.force_plot(explainer.expected_value, shap_values, explicand)"
   ]
  }
 ],
 "metadata": {
  "kernelspec": {
   "display_name": "shapley",
   "language": "python",
   "name": "python3"
  },
  "language_info": {
   "codemirror_mode": {
    "name": "ipython",
    "version": 3
   },
   "file_extension": ".py",
   "mimetype": "text/x-python",
   "name": "python",
   "nbconvert_exporter": "python",
   "pygments_lexer": "ipython3",
   "version": "3.12.3"
  }
 },
 "nbformat": 4,
 "nbformat_minor": 2
}
