{
 "cells": [
  {
   "cell_type": "code",
   "execution_count": 31,
   "metadata": {},
   "outputs": [
    {
     "name": "stdout",
     "output_type": "stream",
     "text": [
      "[0.62348976 0.77668311 0.6130033  0.9172977  0.03959288]\n"
     ]
    }
   ],
   "source": [
    "import numpy as np\n",
    "from scipy.special import comb\n",
    "\n",
    "seed = 1\n",
    "gen = np.random.default_rng(seed=seed)\n",
    "\n",
    "n = 5\n",
    "# 2^n random numbers\n",
    "v = gen.uniform(0, 1, 2**n) # set function\n",
    "p = gen.uniform(0, 1, n) # probability distribution\n",
    "# store p as accurate as possible\n",
    "print(p)\n",
    "\n",
    "def compute_semivalue(v, p, i, n):\n",
    "    semivalue_i = 0\n",
    "    for set_idx in range(2**n):\n",
    "        bin_string = bin(set_idx)[2:].zfill(n)\n",
    "        size = bin_string.count('1')\n",
    "        if bin_string[i] == '0':\n",
    "            semivalue_i -= p[size] * v[set_idx]\n",
    "        else:\n",
    "            semivalue_i += p[size-1] * v[set_idx]\n",
    "    return semivalue_i\n"
   ]
  },
  {
   "cell_type": "code",
   "execution_count": 32,
   "metadata": {},
   "outputs": [
    {
     "name": "stdout",
     "output_type": "stream",
     "text": [
      "[[14.68011484 -1.01515732 -1.01515732 -1.01515732 -1.01515732]\n",
      " [-1.01515732 14.68011484 -1.01515732 -1.01515732 -1.01515732]\n",
      " [-1.01515732 -1.01515732 14.68011484 -1.01515732 -1.01515732]\n",
      " [-1.01515732 -1.01515732 -1.01515732 14.68011484 -1.01515732]\n",
      " [-1.01515732 -1.01515732 -1.01515732 -1.01515732 14.68011484]]\n",
      "15.040945450344918\n",
      "0.5843085086850642\n"
     ]
    }
   ],
   "source": [
    "A = np.zeros((2**n, n))\n",
    "for set_idx in range(2**n):\n",
    "    bin_string = bin(set_idx)[2:].zfill(n)\n",
    "    binary_vec = np.array([int(x) for x in bin_string])\n",
    "    size = np.sum(binary_vec)\n",
    "    ps = p[size] if size < n else 0\n",
    "    ps1 = p[size-1] if size > 0 else 0\n",
    "\n",
    "    A[set_idx] = binary_vec * ps - (1-binary_vec) * ps1\n",
    "\n",
    "# Compute A^T A\n",
    "AtA = A.T @ A\n",
    "print(AtA)\n",
    "# Compute on_diagonal of A^T A\n",
    "on_diagonal = 0\n",
    "for size in range(n+1):\n",
    "    if 0 <= size and size <= n-1: # 0 to n-1\n",
    "        on_diagonal += comb(n-1, size) * p[size-1]**2\n",
    "    if 1 <= size and size <= n: # 1 to n\n",
    "        on_diagonal += comb(n-1, size-1) * p[size-1-1]**2\n",
    "print(on_diagonal)\n",
    "on_diagonal = AtA[0,0]\n",
    "# Compute off_diagonal of A^T A\n",
    "off_diagonal = 0\n",
    "for size in range(n+1):\n",
    "    if 2 <= size and size <= n: # 2 to n\n",
    "        off_diagonal += comb(n-2, size-2) * p[size-1-1]**2\n",
    "    if 0 <= size and size <= n-2: # 0 to n-2\n",
    "        off_diagonal += comb(n-2, size) * p[size-1]**2\n",
    "    if 1 <= size and size <= n-1: # 1 to n-1\n",
    "        off_diagonal += 2*comb(n-2, size-1) * -1 * p[size-1-1] * p[size-1]\n",
    "print(off_diagonal)\n",
    "off_diagonal = AtA[0,1]\n",
    "scalar = on_diagonal - off_diagonal\n",
    "\n",
    "# Solve argmin_x ||Ax - v||_2\n",
    "x = np.linalg.lstsq(A, v, rcond=None)[0]\n",
    "x = x * scalar\n",
    "semivalues = [compute_semivalue(v, p, i, n) for i in range(n)]"
   ]
  },
  {
   "cell_type": "code",
   "execution_count": 33,
   "metadata": {},
   "outputs": [
    {
     "data": {
      "text/plain": [
       "(0.26305450384980666, 0.2630545038498069)"
      ]
     },
     "execution_count": 33,
     "metadata": {},
     "output_type": "execute_result"
    }
   ],
   "source": [
    "i, j = 1, 2\n",
    "semivalues[i] - semivalues[j], (x[i] - x[j])"
   ]
  }
 ],
 "metadata": {
  "kernelspec": {
   "display_name": "shapley",
   "language": "python",
   "name": "python3"
  },
  "language_info": {
   "codemirror_mode": {
    "name": "ipython",
    "version": 3
   },
   "file_extension": ".py",
   "mimetype": "text/x-python",
   "name": "python",
   "nbconvert_exporter": "python",
   "pygments_lexer": "ipython3",
   "version": "3.12.3"
  }
 },
 "nbformat": 4,
 "nbformat_minor": 2
}
