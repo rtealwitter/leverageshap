{
 "cells": [
  {
   "cell_type": "code",
   "execution_count": 50,
   "metadata": {},
   "outputs": [],
   "source": [
    "import numpy as np\n",
    "\n",
    "seed = 1\n",
    "gen = np.random.default_rng(seed=seed)\n",
    "\n",
    "n = 5\n",
    "# 2^n random numbers\n",
    "v = gen.uniform(0, 1, 2**n) # set function\n",
    "p = gen.uniform(0, 1, n) # probability distribution\n",
    "\n",
    "def compute_semivalue(v, p, i, n):\n",
    "    semivalue_i = 0\n",
    "    for set_idx in range(2**n):\n",
    "        bin_string = bin(set_idx)[2:].zfill(n)\n",
    "        size = bin_string.count('1')\n",
    "        if bin_string[i] == '0':\n",
    "            semivalue_i -= p[size] * v[set_idx]\n",
    "        else:\n",
    "            semivalue_i += p[size-1] * v[set_idx]\n",
    "    return semivalue_i\n"
   ]
  },
  {
   "cell_type": "code",
   "execution_count": 73,
   "metadata": {},
   "outputs": [],
   "source": [
    "A = np.zeros((2**n, n))\n",
    "# TODO: COMPUTE a_n\n",
    "for set_idx in range(2**n):\n",
    "    bin_string = bin(set_idx)[2:].zfill(n)\n",
    "    binary_vec = np.array([int(x) for x in bin_string])\n",
    "    size = np.sum(binary_vec)\n",
    "    ps = p[size] if size < n else 0\n",
    "    ps1 = p[size-1] if size > 0 else 0\n",
    "\n",
    "    A[set_idx] = binary_vec * ps - (1-binary_vec) * ps1\n",
    "\n",
    "# Solve argmin_x ||Ax - v||_2\n",
    "x = np.linalg.lstsq(A, v, rcond=None)[0]\n",
    "semivalues = [compute_semivalue(v, p, i, n) for i in range(n)]"
   ]
  },
  {
   "cell_type": "code",
   "execution_count": 72,
   "metadata": {},
   "outputs": [
    {
     "data": {
      "text/plain": [
       "(-0.39325514926091054, -0.025055643850584286)"
      ]
     },
     "execution_count": 72,
     "metadata": {},
     "output_type": "execute_result"
    }
   ],
   "source": [
    "i, j = 0, 2\n",
    "semivalues[i] - semivalues[j], x[i] - x[j]"
   ]
  }
 ],
 "metadata": {
  "kernelspec": {
   "display_name": "shapley",
   "language": "python",
   "name": "python3"
  },
  "language_info": {
   "codemirror_mode": {
    "name": "ipython",
    "version": 3
   },
   "file_extension": ".py",
   "mimetype": "text/x-python",
   "name": "python",
   "nbconvert_exporter": "python",
   "pygments_lexer": "ipython3",
   "version": "3.12.3"
  }
 },
 "nbformat": 4,
 "nbformat_minor": 2
}
