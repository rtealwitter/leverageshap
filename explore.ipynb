{
 "cells": [
  {
   "cell_type": "code",
   "execution_count": 99,
   "metadata": {},
   "outputs": [
    {
     "name": "stdout",
     "output_type": "stream",
     "text": [
      "[0.71702137 0.32012222 0.69361565 0.53859445 0.88773283 0.73336517\n",
      " 0.40791874 0.48490952 0.47138576]\n"
     ]
    }
   ],
   "source": [
    "import numpy as np\n",
    "from scipy.special import comb\n",
    "\n",
    "seed = 1\n",
    "gen = np.random.default_rng(seed=seed)\n",
    "\n",
    "n = 9\n",
    "# 2^n random numbers\n",
    "v = gen.uniform(0, 1, 2**n) # set function\n",
    "p = gen.uniform(0, 1, n) # probability distribution\n",
    "# store p as accurate as possible\n",
    "print(p)\n",
    "\n",
    "def compute_semivalue(v, p, i, n):\n",
    "    semivalue_i = 0\n",
    "    for set_idx in range(2**n):\n",
    "        bin_string = bin(set_idx)[2:].zfill(n)\n",
    "        size = bin_string.count('1')\n",
    "        if bin_string[i] == '0':\n",
    "            semivalue_i -= p[size] * v[set_idx]\n",
    "        else:\n",
    "            semivalue_i += p[size-1] * v[set_idx]\n",
    "    return semivalue_i\n"
   ]
  },
  {
   "cell_type": "code",
   "execution_count": 100,
   "metadata": {},
   "outputs": [],
   "source": [
    "A = np.zeros((2**n, n))\n",
    "for set_idx in range(2**n):\n",
    "    bin_string = bin(set_idx)[2:].zfill(n)\n",
    "    binary_vec = np.array([int(x) for x in bin_string])\n",
    "    size = np.sum(binary_vec)\n",
    "    ps = p[size] if size < n else 0\n",
    "    ps1 = p[size-1] if size > 0 else 0\n",
    "\n",
    "    A[set_idx] = binary_vec * ps1 - (1-binary_vec) * ps\n",
    "\n",
    "# Compute on_diagonal of A^T A\n",
    "on_diagonal = 0\n",
    "for size in range(n+1):\n",
    "    if 0 <= size and size <= n-1: # 0 to n-1\n",
    "        on_diagonal += comb(n-1, size) * p[size]**2\n",
    "    if 1 <= size and size <= n: # 1 to n\n",
    "        on_diagonal += comb(n-1, size-1) * p[size-1]**2\n",
    "# Compute off_diagonal of A^T A\n",
    "off_diagonal = 0\n",
    "for size in range(n+1):\n",
    "    if 2 <= size and size <= n: # 2 to n\n",
    "        off_diagonal += comb(n-2, size-2) * p[size-1]**2\n",
    "    if 0 <= size and size <= n-2: # 0 to n-2\n",
    "        off_diagonal += comb(n-2, size) * p[size]**2\n",
    "    if 1 <= size and size <= n-1: # 1 to n-1\n",
    "        off_diagonal += 2*comb(n-2, size-1) * -1 * p[size-1] * p[size]\n",
    "scalar = on_diagonal - off_diagonal\n",
    "\n",
    "# Solve argmin_x ||Ax - v||_2\n",
    "x = np.linalg.lstsq(A, v, rcond=None)[0]\n",
    "x = x * scalar\n",
    "semivalues = [compute_semivalue(v, p, i, n) for i in range(n)]"
   ]
  },
  {
   "cell_type": "code",
   "execution_count": 101,
   "metadata": {},
   "outputs": [
    {
     "data": {
      "text/plain": [
       "(4.864632260488248, 4.86463226048828)"
      ]
     },
     "execution_count": 101,
     "metadata": {},
     "output_type": "execute_result"
    }
   ],
   "source": [
    "i, j = 1, 2\n",
    "semivalues[i] - semivalues[j], (x[i] - x[j])"
   ]
  }
 ],
 "metadata": {
  "kernelspec": {
   "display_name": "shapley",
   "language": "python",
   "name": "python3"
  },
  "language_info": {
   "codemirror_mode": {
    "name": "ipython",
    "version": 3
   },
   "file_extension": ".py",
   "mimetype": "text/x-python",
   "name": "python",
   "nbconvert_exporter": "python",
   "pygments_lexer": "ipython3",
   "version": "3.12.3"
  }
 },
 "nbformat": 4,
 "nbformat_minor": 2
}
